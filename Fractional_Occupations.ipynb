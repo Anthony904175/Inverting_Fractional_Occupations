{
 "cells": [
  {
   "cell_type": "markdown",
   "metadata": {},
   "source": [
    "# Fractional Occupations in Psi4\n",
    "## Written by: Anthony Osborne\n",
    "For use with the thermal inversion project "
   ]
  },
  {
   "cell_type": "markdown",
   "metadata": {},
   "source": [
    "### Import and Set up Section\n",
    "Memory is likely set way too large but that is safest."
   ]
  },
  {
   "cell_type": "code",
   "execution_count": 1,
   "metadata": {},
   "outputs": [
    {
     "name": "stdout",
     "output_type": "stream",
     "text": [
      "\n",
      "  Memory set to  14.435 GiB by Python driver.\n",
      "  Threads set to 10 by Python driver.\n"
     ]
    }
   ],
   "source": [
    "import psi4\n",
    "import matplotlib.pyplot as plt\n",
    "import numpy as np\n",
    "\n",
    "psi4.set_options({\"save_jk\" : True})\n",
    "psi4.set_memory(int(15.50e9))\n",
    "psi4.set_num_threads(10)\n",
    "psi4.core.clean()\n",
    "\n",
    "import n2v\n",
    "\n",
    "import matplotlib as mpl\n",
    "mpl.rcParams[\"font.size\"] = 11\n",
    "mpl.rcParams[\"font.family\"] = \"sans-serif\"\n",
    "mpl.rcParams[\"axes.edgecolor\"] = \"#eae8e9\" "
   ]
  },
  {
   "cell_type": "markdown",
   "metadata": {},
   "source": [
    "#### Options to turn off parts of code to save time when running entire notebook. Set to True for on and False for off"
   ]
  },
  {
   "cell_type": "code",
   "execution_count": 2,
   "metadata": {},
   "outputs": [],
   "source": [
    "Do_Ou_Carter = False # Option used to determine if The Ou-Carter method is used for n2v Only set up for water at the moment\n",
    "Options_testing = False # Option used to determine if the example fractional occupation is calculated. Leave off unless something major is broken. Might even be better to just remove this cell\n",
    "index_test = True # Option used to determine if Orbitals and their energies are calculated seperately and printed. Leave off unless something major is broken\n",
    "Fermi_Testing = False # Option used to determine if the test for the Fermi_to_Frac function is tested. Leave off unless something major is broken. Again another cell that could possibly be removed\n",
    "Water_testing = True # Option used to determine if fractional occupations for water are to be tested. Turn off to save some time if testing other molecules"
   ]
  },
  {
   "cell_type": "markdown",
   "metadata": {},
   "source": [
    "#### Molecular Set up\n",
    "Can and will define mulitple molecules to be tested."
   ]
  },
  {
   "cell_type": "code",
   "execution_count": 3,
   "metadata": {},
   "outputs": [],
   "source": [
    "# Molecules should all work\n",
    "F = psi4.geometry(\n",
    "    \"\"\"\n",
    "    0 2\n",
    "    F 0.0 0.0 0.0\n",
    "    noreorient\n",
    "    nocom\n",
    "    units bohr\n",
    "    symmetry c1\n",
    "    \"\"\", name=\"F\")\n",
    "H2O = psi4.geometry(\n",
    "    \"\"\"\n",
    "    0 1\n",
    "    O        0.15037        0.48699        0.00442\n",
    "    H        1.11826        0.44171       -0.00585\n",
    "    H       -0.12848       -0.41805       -0.20079\n",
    "    noreorient\n",
    "    nocom\n",
    "    units bohr\n",
    "    symmetry c1\n",
    "    \"\"\", name=\"Water\")\n",
    "CH4 = psi4.geometry(\n",
    "    \"\"\" \n",
    "    C       -0.70207        1.95893        0.00000\n",
    "    H        0.39013        1.95893       -0.00000\n",
    "    H       -1.06613        1.99095        1.02924\n",
    "    H       -1.06613        1.05158       -0.48689\n",
    "    H       -1.06614        2.83427       -0.54235\n",
    "    noreorient\n",
    "    nocom\n",
    "    units bohr\n",
    "    symmetry c1\n",
    "    \"\"\", name=\"Methane\")\n",
    "CCCC = psi4.geometry(\n",
    "    \"\"\" \n",
    "    C        0.60024       -1.20973        0.11111\n",
    "    C       -0.36574        2.49231        0.54931\n",
    "    C       -1.34777       -0.08504        3.23689\n",
    "    C        2.34127        0.92942        2.79869\n",
    "    noreorient\n",
    "    nocom\n",
    "    units bohr\n",
    "    symmetry c1\n",
    "    \"\"\", name=\"Graphite\")\n",
    "Ne = psi4.geometry(\n",
    "    \"\"\"\n",
    "    0 1\n",
    "    Ne 0.0 0.0 0.0\n",
    "    noreorient\n",
    "    nocom\n",
    "    units bohr\n",
    "    symmetry c1\n",
    "    \"\"\", name=\"Ne\")\n",
    "NH3 =psi4.geometry(\n",
    "    \"\"\"\n",
    "    0 1\n",
    "    N       -0.58187        0.48713       -0.03712\n",
    "    H        0.43546        0.50133        0.01948\n",
    "    H       -0.89347        1.40498        0.27725\n",
    "    H       -0.89347       -0.17373        0.67317\n",
    "    noreorient\n",
    "    nocom\n",
    "    units bohr\n",
    "    symmetry c1\n",
    "    \"\"\", name=\"Ammonia\")\n"
   ]
  },
  {
   "cell_type": "markdown",
   "metadata": {},
   "source": [
    "### Functions Used in the calculations"
   ]
  },
  {
   "cell_type": "markdown",
   "metadata": {},
   "source": [
    "#### Fractional Occupation Options Function"
   ]
  },
  {
   "cell_type": "code",
   "execution_count": 4,
   "metadata": {},
   "outputs": [],
   "source": [
    "def Psi4Opts(Use=bool, testing=bool, Working=bool, frac_occ=None, frac_val=None):\n",
    "    '''\n",
    "    Description: Sets the various options needed for the Psi4 calcualtions.\n",
    "    Current Capabilities: Does all that it is desired\n",
    "    Goal: NA\n",
    "    Note: Pylance does not like the fact that I am using booleans as imputs. Pretty sure that is just a pylance thing\n",
    "    INPUT:\n",
    "        Use: Bool \n",
    "            True: Sets options Always needs to be true to use Psi4\n",
    "        testing: Bool\n",
    "            True: uses a predetermined set of values for the frac_occ and frac_val\n",
    "            False: Allows for either no fractional occupations to be used or for user specfied values to be used\n",
    "        Working: Bool\n",
    "            True: Allows for user specfied values to be used for frac_occ and frac_val\n",
    "            False: Allows for either no fractional occupations to be used or for examples values to be used\n",
    "        frac_occ: ndarray\n",
    "            The absolute orbital indicies to be fractionally occupied\n",
    "        frac_val: ndarray\n",
    "            The ammount to fractionally occupy the specified orbitals\n",
    "    OUTPUT\n",
    "        No output simply calls a Psi4 option command and sets options to be used\n",
    "    '''\n",
    "    options = {\n",
    "        'basis': 'sto-6g',\n",
    "        'scf_type': 'direct',\n",
    "        'reference': 'uhf',\n",
    "        'df_scf_guess': False,\n",
    "        'e_convergence': 8,\n",
    "        \"opdm\": True,\n",
    "        'tpdm': True,\n",
    "        'DFT_SPHERICAL_POINTS': 74,\n",
    "        'DFT_RADIAL_POINTS': 56,\n",
    "        'MAXITER' : 1500,\n",
    "    }\n",
    "\n",
    "    if Use and testing:\n",
    "        options.update({\n",
    "            'frac_start': 1,\n",
    "            'frac_occ' : [ +3, +4, +5, -3, -4, -5 ],\n",
    "            'frac_val' : [1.0, 1.0, 1.0, 6.666666666666666e-01, 6.666666666666666e-01, 6.666666666666666e-01],\n",
    "        })\n",
    "    if Use and Working:\n",
    "        options.update({\n",
    "            'frac_start': 1,\n",
    "            'frac_occ': frac_occ,\n",
    "            'frac_val': frac_val,\n",
    "        })\n",
    "\n",
    "    psi4.set_options(options)\n"
   ]
  },
  {
   "cell_type": "markdown",
   "metadata": {},
   "source": [
    "#### Fractional Occupation function test"
   ]
  },
  {
   "cell_type": "code",
   "execution_count": 5,
   "metadata": {},
   "outputs": [],
   "source": [
    "dummy_occs = [ +3, +4, +5, +6, -3, -4, -5, -6 ]\n",
    "dummy_vals = [1.0, 1.0, 1.0, 0.5, 6.666666666666666e-01, 6.666666666666666e-01, 6.666666666666666e-01, 0.5]\n",
    "if Options_testing == True:\n",
    "    Psi4Opts(True, False, True, dummy_occs, dummy_vals) # type: ignore #, dummy_occs, dummy_vals) # In order to change from True to False you must restart the kernel\n",
    "    testEnergy, frac_occd_wfn = psi4.energy('svwn/cc-pvtz', molecule=F, return_wfn=True,) # type: ignore\n",
    "    #print(testEnergy)\n",
    "    if testEnergy == -98.91325301570028: # This number came from a Psi4 as an executable run without fractional occupations all other things held constant\n",
    "        print(\"No Fractional Occupations were used. Energy is:\", testEnergy) \n",
    "    else: # This number came from a Psi4 as an executable run with fractional occupations all other things held constant\n",
    "        print(\"Fractional Occupation Occured. Energy is:\", testEnergy)"
   ]
  },
  {
   "cell_type": "markdown",
   "metadata": {},
   "source": [
    "##### Inverting with Fractional occupations test For atoms\n",
    "See [Fluorine and Neon test For Imac](/Users/aosborne3/Desktop/Grad_Research/Code/Examples_Tutorials/Tutorials/PSI4/Fractional_Occupations/Fluorine_N2V_TEST.ipynb)\\\n",
    "See [Fluorine and Neon test For MacBook](/Users/tonyosborne/Desktop/Grad_Research/Code/Examples_Tutorials/Tutorials/PSI4/Fractional_Occupations/Fluorine_N2V_TEST.ipynb)\n",
    "\n"
   ]
  },
  {
   "cell_type": "markdown",
   "metadata": {},
   "source": [
    "#### Thermodynamic Properties function"
   ]
  },
  {
   "cell_type": "code",
   "execution_count": 6,
   "metadata": {},
   "outputs": [],
   "source": [
    "#Thermoproperties function\n",
    "def thermo_prop(wfn, base_energy, temp, press, Spin_mult, molecular_mass, rotational_constants):\n",
    "    '''\n",
    "    Description: Sets the various options needed for the Psi4 calcualtions.\n",
    "    Current Capabilities: Does what it is supposed to\n",
    "    Goal: NA\n",
    "    Note: Might not even be needed. Unsure if this is just messing up the chemical potential or not \n",
    "            Do not change the last three lines. I don't understand how that works well enough to fix it. I only know that is is working.\n",
    "    INPUT:\n",
    "        wfn: object \n",
    "            object allowing for frequency analysis. Required to calculate thermodynamic properties\n",
    "        base_energy: scalar\n",
    "            Electronic energy [Eh] at well bottom at 0 [K]\n",
    "        temp: scalar\n",
    "            Temperature in [K]. Psi default 298.15. Note that 273.15 is IUPAC STP. \n",
    "        press: scalar\n",
    "            Pressure in [Pa]. Psi default 101325. Note that 100000 is IUPAC STP. \n",
    "        Spin_mult: scalar\n",
    "            Spin multiplicity of molecule under analysis.\n",
    "        Molecular_Mass: scalar\n",
    "            Mass in [u] of molecule under analysis. Need to verify the units on data \n",
    "        Rotataional_constants: ndarray\n",
    "            rotational constants in [cm^-1] of molecule under analysis.  Need to varify that data being used for this is in correct units\n",
    "    OUTPUT\n",
    "        data_output: Structure Unknown\n",
    "            Callable library containing the thermodynamic data\n",
    "    '''\n",
    "    data_output = psi4.driver.qcdb.vib.thermo(wfn.frequency_analysis, E0=base_energy, T=temp, P=press, sigma=1, molecular_mass=molecular_mass, multiplicity=Spin_mult, rot_const=rotational_constants)\n",
    "    # Sets first element of data_output as the dictionary and takes care of it\n",
    "    if isinstance(data_output, tuple) and len(data_output) > 0:\n",
    "        data_output = data_output[0]  # Assuming the first element is the dictionary\n",
    "    return data_output"
   ]
  },
  {
   "cell_type": "markdown",
   "metadata": {},
   "source": [
    "#### Chemical potential function"
   ]
  },
  {
   "cell_type": "code",
   "execution_count": 7,
   "metadata": {},
   "outputs": [],
   "source": [
    "def chemical_potential(data_set, T, print=\"n\"):\n",
    "    '''\n",
    "    Description: Calculates the chemical potential of the specified molecule\n",
    "    Current Capabilities: It does calculate a chemical potential however it is incorrect. \n",
    "            Some of the values used to do the calculation are in Hartree and some are in SI units.\n",
    "            Currently the highest priorit fix is assigned here.\n",
    "    Goal: Get working correctly\n",
    "    Note: Unsure if I am using the correct equation\n",
    "            \n",
    "    INPUT:\n",
    "        data_set: Structure Unknown \n",
    "            Is a library containing the various thermodynamic information. Returned by thermo_prop\n",
    "        T: Scalar\n",
    "            Temperature in [K] Needs to be converted to electronic temperature using convert_temp\n",
    "        print: string\n",
    "            Determines if the extra printing is done. Probably can just remove this\n",
    "    OUTPUT\n",
    "        mu: scalar\n",
    "            Chemical potential of specified molecule\n",
    "    '''\n",
    "    R = psi4.constants.R \n",
    "    G_tot = data_set['G_tot'].data # Total Gibbs free energy in Eh\n",
    "    G_tot_J = data_set['G_tot'].data * (4.360 * 10 **(-18)) # Total Gibbs free energy in Eh\n",
    "    P = data_set['P'].data / 101300          # Pressure P in Pa\n",
    "\n",
    "    # Calculate chemical potential\n",
    "    P0 = 100000 / 101300  #  IUPAC STP pressure in Pa \n",
    "    mu = G_tot_J + R * T * np.log(P / P0)\n",
    "\n",
    "    \n",
    "\n",
    "    # Optionally, print mu\n",
    "    if print == \"y\":\n",
    "        print(f\"G_tot: {G_tot}\") # type: ignore\n",
    "        print(f\"G_tot in Joules: {G_tot_J}\") # type: ignore\n",
    "        print(f\"Chemical potential (mu): {mu} \")  # type: ignore\n",
    "\n",
    "    return mu\n"
   ]
  },
  {
   "cell_type": "markdown",
   "metadata": {},
   "source": [
    "#### Fermi Weighting function\n",
    "Form of the Fermi weighting is:\n",
    "$f = (1 + e^{(\\epsilon^{\\tau}_i - \\mu^{\\tau})/\\tau})^{-1}$"
   ]
  },
  {
   "cell_type": "code",
   "execution_count": 8,
   "metadata": {},
   "outputs": [
    {
     "name": "stdout",
     "output_type": "stream",
     "text": [
      "For a real temperature of 298.15 K the electronic temperature should be:  0.00094418486750845\n"
     ]
    }
   ],
   "source": [
    "## Converting real temperature to electronic temperature\n",
    "def convert_temp(temp):\n",
    "    '''\n",
    "    Description: Calculates the Fermi-weighting to be used in the frac_val array\n",
    "    Current Capabilities: As far as I know this works just fine\n",
    "    Goal: NA\n",
    "    Note: Temperature is converted to electronic temperature. Chemical potential will be wrong until its function is corrected.\n",
    "            \n",
    "    INPUT:\n",
    "        temp: Scalar\n",
    "            Temperature in [K] \n",
    "    OUTPUT\n",
    "        tau: scalar\n",
    "            The electronic temperature \n",
    "    '''\n",
    "    K_b = 3.166811563e-6\n",
    "    tau = K_b * temp\n",
    "    return tau\n",
    "\n",
    "temp = 298.15\n",
    "print(\"For a real temperature of\", temp, \"K the electronic temperature should be: \", convert_temp(temp))"
   ]
  },
  {
   "cell_type": "code",
   "execution_count": 9,
   "metadata": {},
   "outputs": [],
   "source": [
    "def fermi_weighting(energy, chemical_potential, temperature):\n",
    "    '''\n",
    "    Description: Calculates the Fermi-weighting to be used in the frac_val array\n",
    "    Current Capabilities: As far as I know this works just fine\n",
    "    Goal: NA\n",
    "    Note: Temperature is converted to electronic temperature. Chemical potential will be wrong until its function is corrected.\n",
    "            \n",
    "    INPUT:\n",
    "        energy: Scalar\n",
    "            Energy of the system\n",
    "        temperature: Scalar\n",
    "            Temperature in [K] Needs to be converted to electronic temperature using convert_temp\n",
    "        chemical_potential: Scalar\n",
    "            Chemical potential of the sytem\n",
    "    OUTPUT\n",
    "        mu: scalar\n",
    "            The fermi weight at the given energy level, chemicial potential and temperature\n",
    "    '''\n",
    "    elec_temp = convert_temp(temperature)\n",
    "    exponent = (energy - chemical_potential)/elec_temp\n",
    "    expoenential = np.exp(exponent)\n",
    "    base = 1 + expoenential\n",
    "    fermi = base**(-1)\n",
    "    return fermi\n"
   ]
  },
  {
   "cell_type": "markdown",
   "metadata": {},
   "source": [
    "#### Getting the Fractional occupation indices"
   ]
  },
  {
   "cell_type": "code",
   "execution_count": 10,
   "metadata": {},
   "outputs": [],
   "source": [
    "def print_orbital_info(wavefunction):\n",
    "    '''\n",
    "    Description: Prints Additional (Probably Uncessary) information about the orbitals\n",
    "    Current Capabilities: As far as I know this works just fine\n",
    "    Goal: NA\n",
    "    Note: Honestly I think this is junk but I hesitate to get rid of it because I dont know if I will need it again\n",
    "            \n",
    "    INPUT:\n",
    "        wavefunction: Type unknown (Variables menu says UHF but that is not a type)\n",
    "            The wavefunction of the system from Psi4\n",
    "    OUTPUT\n",
    "        This function prints information\n",
    "    '''\n",
    "    # Get orbital information from wavefunction\n",
    "    orbital_info = wavefunction.epsilon_a().to_array()  # Orbital energies\n",
    "    num_occ = wavefunction.nalpha()  # Number of occupied orbitals\n",
    "    \n",
    "    # Print out occupied orbital indices and energies\n",
    "    print(\"Occupied Orbital Indices and Energies:\")\n",
    "    for i in range(num_occ):\n",
    "        orbital_index = i + 1  # PSI4 uses 1-based indexing for orbitals\n",
    "        orbital_energy = orbital_info[i]\n",
    "        print(f\"Orbital {orbital_index}: Energy = {orbital_energy}\")\n"
   ]
  },
  {
   "cell_type": "markdown",
   "metadata": {},
   "source": [
    "##### Indices testing"
   ]
  },
  {
   "cell_type": "code",
   "execution_count": 11,
   "metadata": {},
   "outputs": [
    {
     "name": "stdout",
     "output_type": "stream",
     "text": [
      "Warning: thermodynamics relations excluded imaginary frequencies: ['9908.3283i' '9745.6999i' '9655.3371i' '8785.1652i']\n",
      "Occupied Orbital Indices and Energies:\n",
      "Orbital 1: Energy = -20.71621328710317\n",
      "Orbital 2: Energy = -1.6909971937638097\n",
      "Orbital 3: Energy = -0.9464895777298867\n",
      "Orbital 4: Energy = -0.5907347551410614\n",
      "Orbital 5: Energy = -0.5512640389423027\n"
     ]
    }
   ],
   "source": [
    "if index_test == True:\n",
    "    Psi4Opts(False, False, False)  # type: ignore\n",
    "    Molec, name = H2O, \"Water\"\n",
    "    Index_test_frequency, index_test_wfn = psi4.frequency('scf', molecule = Molec, return_wfn = True)\n",
    "    print_orbital_info(index_test_wfn)"
   ]
  },
  {
   "cell_type": "markdown",
   "metadata": {},
   "source": [
    "#### Fermi Weights to Fractional Occupation Values"
   ]
  },
  {
   "cell_type": "code",
   "execution_count": 12,
   "metadata": {},
   "outputs": [],
   "source": [
    "def calc_Fermi_weight(orbital_energies, mu, T):\n",
    "    '''\n",
    "    Description: Calculates the Fermi weights for the system at given paramters\n",
    "    Current Capabilities: As far as I know this works just fine\n",
    "    Goal: NA\n",
    "    Note: Pretty sure this works correctly I simply need to add temperature conversion \n",
    "            which is done by the convert_temp function above\n",
    "            \n",
    "    INPUT:\n",
    "        orbital_energies: tuple (I should really learn what that means)\n",
    "            The Orbital energies of the system from Psi4\n",
    "        mu: scalar\n",
    "            The (Still incorrect) chemical potential of the system\n",
    "        T: Scalar\n",
    "            The temperature in [K] Needs to be converted\n",
    "    OUTPUT\n",
    "        fermi_weights: ndarray\n",
    "            The Fermi Weights of the system at specified mu and tau\n",
    "    '''\n",
    "    # Calculate Fermi weightings\n",
    "    fermi_weights = []\n",
    "    for energy in orbital_energies:\n",
    "        f = fermi_weighting(energy, mu, T)\n",
    "        fermi_weights.append(f)\n",
    "    return fermi_weights\n",
    "\n",
    "def fermi_to_frac_val(fermi_weights_list):\n",
    "    '''\n",
    "    Description: Takes the Fermi weights and places them into an array to be used for\n",
    "                 the fractional occupation values\n",
    "    Current Capabilities: I have not used this in a while since there was an issue. \n",
    "                          Pretty sure the issue was that I had this feeding into the wrong place\n",
    "    Goal: Get this to feed the values into the Psi4 options function correctly\n",
    "    Note: \n",
    "            \n",
    "    INPUT:\n",
    "        fermi_weights_list: ndarray\n",
    "            The set of arrays of fermi weights\n",
    "    OUTPUT\n",
    "        frac_val_list: ndarray\n",
    "            The Fermi Weights as fractional occupation values\n",
    "    '''\n",
    "    frac_val_list = []\n",
    "    for fermi_weights in fermi_weights_list:\n",
    "        frac_val = []\n",
    "        for f in fermi_weights:\n",
    "            if isinstance(f, list):\n",
    "                frac = []\n",
    "                for value in f:\n",
    "                    if value >= 1.0:\n",
    "                        n = 1.0  # Full occupation (positive fraction)\n",
    "                    elif value <= 0.0:\n",
    "                        n = 0.0  # No occupation (zero fraction)\n",
    "                    else:\n",
    "                        n = value  # For weights between 0 and 1, use as-is (positive fraction)\n",
    "                    frac.append(n)\n",
    "                frac_val.append(frac)\n",
    "            else:\n",
    "                if f >= 1.0:\n",
    "                    n = 1.0  # Full occupation (positive fraction)\n",
    "                elif f <= 0.0:\n",
    "                    n = 0.0  # No occupation (zero fraction)\n",
    "                else:\n",
    "                    n = f  # For weights between 0 and 1, use as-is (positive fraction)\n",
    "                frac_val.append(n)\n",
    "        frac_val_list.append(frac_val)\n",
    "    return frac_val_list"
   ]
  },
  {
   "cell_type": "markdown",
   "metadata": {},
   "source": [
    "##### Fermi2Frac testing"
   ]
  },
  {
   "cell_type": "code",
   "execution_count": 13,
   "metadata": {},
   "outputs": [],
   "source": [
    "if Fermi_Testing == True:\n",
    "    # Example Fermi weights lists (multiple arrays)\n",
    "    fermi_weights_list = [\n",
    "        [0.9, 0.8, 1.0],   # Fermi weights for state 1\n",
    "        [0.7, 0.6, 0.5],   # Fermi weights for state 2\n",
    "        [0.95, 0.85, 0.75] # Fermi weights for state 3\n",
    "    ]\n",
    "\n",
    "    # Convert Fermi weights to fractional occupations\n",
    "    frac_occ_list = fermi_to_frac_val(fermi_weights_list)\n",
    "\n",
    "    # Print fractional occupations\n",
    "    for i, frac_occ in enumerate(frac_occ_list):\n",
    "        print(f\"Fractional Occupations for state {i+1}:\")\n",
    "        for j, n in enumerate(frac_occ):\n",
    "            print(f\"  Orbital {j+1}: {n}\")\n"
   ]
  },
  {
   "cell_type": "markdown",
   "metadata": {},
   "source": [
    "#### Printing Function so I don't have to keep copying large cells"
   ]
  },
  {
   "cell_type": "code",
   "execution_count": 14,
   "metadata": {},
   "outputs": [],
   "source": [
    "def print_big_info(orbital_energies, fermi_weights, frac_val_list, print_orb_energies=bool):\n",
    "    '''\n",
    "    Description: Printing function that was intended to save lines when applying to molecule \n",
    "                 (not sure it actually save that much space)\n",
    "    Current Capabilities: Works correctly AFAIK\n",
    "    Goal: N/A\n",
    "    Note: \n",
    "            \n",
    "    INPUT:\n",
    "        orbital_energies: ndarray\n",
    "            The orbital energies of the system (from Psi4)\n",
    "        print_orb_energies: boolean\n",
    "            Determines if extra printing is done\n",
    "        fermi_weights_list: ndarray\n",
    "            The set of arrays of fermi weights\n",
    "        frac_val_list: ndarray\n",
    "            The Fermi Weights as fractional occupation values\n",
    "    OUTPUT\n",
    "        This function only prints does not return anything\n",
    "    '''\n",
    "    if print_orb_energies:\n",
    "        print(\"Orbital energies for each KS State:\")\n",
    "        for i, energy in enumerate(orbital_energies):\n",
    "            print(f\"State {i+1}: {energy} Hartree\")\n",
    "    # Print Fermi weightings\n",
    "    print(\"Fermi weightings for each KS state:\")\n",
    "    for i, f in enumerate(fermi_weights):\n",
    "        print(f\"State {i+1}: f = {f}\")\n",
    "    #Print out fractional occupations\n",
    "    for i, frac_val in enumerate(frac_val_list):\n",
    "        print(f\"Fractional Occupation Values for state {i+1}:\")\n",
    "        for j, n in enumerate(frac_val):\n",
    "            print(f\"  Orbital {j+1}: {n}\")"
   ]
  },
  {
   "cell_type": "markdown",
   "metadata": {},
   "source": [
    "### Regular SCF (No Fractional Occupations) of Water"
   ]
  },
  {
   "cell_type": "markdown",
   "metadata": {},
   "source": [
    "#### Calculating the energy for water"
   ]
  },
  {
   "cell_type": "code",
   "execution_count": 15,
   "metadata": {},
   "outputs": [
    {
     "name": "stdout",
     "output_type": "stream",
     "text": [
      "Warning: thermodynamics relations excluded imaginary frequencies: ['9308.1029i' '9132.5603i' '9010.4399i' '8500.4014i']\n",
      "The total energy of the specified Water molecule is: -74.70019301969207\n"
     ]
    }
   ],
   "source": [
    "Psi4Opts(False, False, False)  # type: ignore\n",
    "Molec, name = H2O, \"Water\"\n",
    "Water_Energy, Water_wfn = psi4.energy(\"svwn/cc-pvtz\", molecule = Molec, return_wfn = True, write_orbitals=('test.dat', True)) # type: ignore\n",
    "Water_frequency, Water_wfn2 = psi4.frequency(\"svwn/cc-pvtz\", molecule = Molec, return_wfn = True)\n",
    "print(\"The total energy of the specified\", name, \"molecule is:\", Water_Energy)"
   ]
  },
  {
   "cell_type": "markdown",
   "metadata": {},
   "source": [
    "#### Using the energy of water to calculate thermodynamic properties \n",
    "then using those properties to calculate the chemical potential and ultimately the Fermi weighting"
   ]
  },
  {
   "cell_type": "code",
   "execution_count": 16,
   "metadata": {},
   "outputs": [
    {
     "name": "stdout",
     "output_type": "stream",
     "text": [
      "[-18.56191295  -1.21348764  -0.70410214  -0.39425457  -0.3293642\n",
      "   0.04395905   0.12070445   0.38966654   0.43626963   0.48102808\n",
      "   0.59332436   0.69187669   0.70418125   0.70608843   0.83970985\n",
      "   0.85244611   1.18626792   1.49689709   1.70619534   1.72190323\n",
      "   1.76162037   1.82499143   1.83340346   2.31676535   2.87319124\n",
      "   2.95296605   2.99078862   3.14783388   3.21341889   3.27518217\n",
      "   3.37130848   3.64620076   3.71603939   3.85481667   4.16584134\n",
      "   4.26238919   4.29334333   4.56642587   4.66258792   4.82917065\n",
      "   5.18075501   5.23068294   5.85726614   5.96208855   6.02104748\n",
      "   6.1237194    6.54377161   6.57036437   6.63747612   7.85748678\n",
      "   7.92419024   8.37912184   8.7692471    8.91982657   9.25378189\n",
      "   9.78502104  11.85600384  21.13016847]\n",
      "[[ 9.54965881e-01  5.60308250e-02  1.39720531e-08 ...  1.05230550e-01\n",
      "   4.06217736e-07  6.46887386e+00]\n",
      " [-1.91000833e-02 -4.34750903e-01  5.84779092e-08 ... -7.72366531e-01\n",
      "  -1.06391709e-07  1.12813797e+01]\n",
      " [ 8.00997991e-02 -1.05006705e-01  7.98299257e-09 ... -4.31509462e+00\n",
      "  -3.25115437e-06 -8.97200882e-01]\n",
      " ...\n",
      " [-1.10755362e-03  6.19529887e-04 -1.48753439e-04 ...  3.15380534e-01\n",
      "  -1.31267317e-01  2.03978188e-02]\n",
      " [ 2.46613327e-03 -3.62402764e-03  7.16947492e-03 ... -8.91195965e-01\n",
      "   3.30358160e-01  1.69638925e-02]\n",
      " [-9.29539928e-04  1.51962435e-03  1.07024872e-02 ... -2.71338974e-01\n",
      "   3.25792671e-01  1.72141042e-02]]\n"
     ]
    }
   ],
   "source": [
    "#rot_const = np.array([27.87700, 14.51200, 9.28500]) # From https://cccbdb.nist.gov/exp2x.asp?casno=7732185\n",
    "#T =  298.15\n",
    "#P = 101325\n",
    "#water_thermo_data = thermo_prop(Water_wfn2, Water_frequency, T, P, 18, 1, rot_const)\n",
    "#data_output, lib = psi4.driver.qcdb.vib.thermo(Water_wfn2.frequency_analysis, E0=Water_frequency, T=T, P=P, sigma=1, molecular_mass=18, multiplicity=1, rot_const=rot_const)\n",
    "#print(lib)\n",
    "#print(water_thermo_data)\n",
    "#Pressure = Pressure_Printer(water_thermo_data) # type: ignore\n",
    "#Water_mu = chemical_potential(water_thermo_data, T)\n",
    "#print(f\"The chemical potential of the system is: mu = {Water_mu}\")\n",
    "#print(Water_wfn.same_a_b_orbs())\n",
    "Water_orbital_energies_alpha = Water_wfn.epsilon_a().np\n",
    "Water_Orbitals_alpha = Water_wfn.Ca().np\n",
    "#print(Water_wfn.nalpha())\n",
    "#print(Water_wfn.nbeta())\n",
    "print(Water_orbital_energies_alpha)\n",
    "print(Water_Orbitals_alpha)\n",
    "#Water_Fermi_weights_alpha = calc_Fermi_weight(Water_orbital_energies_alpha, Water_mu, T)\n",
    "#print(Water_Fermi_weights_alpha)\n",
    "#frac_val_list_alpha = fermi_to_frac_val(Water_Fermi_weights_alpha) \n",
    "#print_big_info(Water_orbital_energies_alpha, Water_Fermi_weights_alpha, frac_val_list_alpha, False)  # type: ignore"
   ]
  },
  {
   "cell_type": "code",
   "execution_count": 17,
   "metadata": {},
   "outputs": [
    {
     "ename": "NameError",
     "evalue": "name 'Water_mu' is not defined",
     "output_type": "error",
     "traceback": [
      "\u001b[0;31m---------------------------------------------------------------------------\u001b[0m",
      "\u001b[0;31mNameError\u001b[0m                                 Traceback (most recent call last)",
      "Cell \u001b[0;32mIn[17], line 3\u001b[0m\n\u001b[1;32m      1\u001b[0m Water_orbital_energies_beta \u001b[38;5;241m=\u001b[39m Water_wfn\u001b[38;5;241m.\u001b[39mepsilon_b()\u001b[38;5;241m.\u001b[39mnph\n\u001b[1;32m      2\u001b[0m \u001b[38;5;66;03m#print(Water_orbital_energies_beta)\u001b[39;00m\n\u001b[0;32m----> 3\u001b[0m Water_Fermi_weights_beta \u001b[38;5;241m=\u001b[39m calc_Fermi_weight(Water_orbital_energies_beta, \u001b[43mWater_mu\u001b[49m, T)\n\u001b[1;32m      4\u001b[0m frac_val_list_beta \u001b[38;5;241m=\u001b[39m fermi_to_frac_val(Water_Fermi_weights_beta) \n\u001b[1;32m      5\u001b[0m print_big_info(Water_orbital_energies_beta, Water_Fermi_weights_beta, frac_val_list_beta, \u001b[38;5;28;01mTrue\u001b[39;00m)  \u001b[38;5;66;03m# type: ignore\u001b[39;00m\n",
      "\u001b[0;31mNameError\u001b[0m: name 'Water_mu' is not defined"
     ]
    }
   ],
   "source": [
    "Water_orbital_energies_beta = Water_wfn.epsilon_b().nph\n",
    "#print(Water_orbital_energies_beta)\n",
    "Water_Fermi_weights_beta = calc_Fermi_weight(Water_orbital_energies_beta, Water_mu, T)\n",
    "frac_val_list_beta = fermi_to_frac_val(Water_Fermi_weights_beta) \n",
    "print_big_info(Water_orbital_energies_beta, Water_Fermi_weights_beta, frac_val_list_beta, True)  # type: ignore"
   ]
  },
  {
   "cell_type": "markdown",
   "metadata": {},
   "source": [
    "### Fractional Occupations for Water"
   ]
  },
  {
   "cell_type": "markdown",
   "metadata": {},
   "source": [
    "#### Manually trying new factional occupations"
   ]
  },
  {
   "cell_type": "code",
   "execution_count": null,
   "metadata": {},
   "outputs": [
    {
     "name": "stdout",
     "output_type": "stream",
     "text": [
      "Fractional Occupation Occured occured. Energy is: -72.4791916706624\n",
      "Regular (non fractionally occupied) energy is; -74.7001930196935\n"
     ]
    }
   ],
   "source": [
    "#test_Occs = [+1, +2, -1, -2] \n",
    "#Test_values = [1, 1, 0.48111183, 0.46503572]\n",
    "# Last working set: 1 - 6 \n",
    "#test_Occs = [+1, +2, +3, +4, +5, +6, -1, -2, -3, -4, -5, -6] \n",
    "#Test_values = [1, 1, 1, 1, 1, 1, 0.48111183, 0.46503572, 0.4654729202742443, 0.4652103301619441, 0.46515678040514274, 0.46484442384199415]\n",
    "# Currently testing set: 3-8 \n",
    "# 8th is a virtual orbital I think \n",
    "test_Occs = [+3, +4, +5, +6, +7, +8, -3, -4, -5, -6, -7, -8] \n",
    "Test_values = [1, 1, 1, 1, 1, 1, 0.4654729202742443, 0.4652103301619441, 0.46515678040514274, 0.46484442384199415, 0.4647808121454412, 0.46455717961153353]\n",
    "#Three_Occs = [+1, +2, +3, -1, -2, -3] \n",
    "#Three_values = [1, 1, 1, 0.48111183, 0.46503572, 0.46347614]\n",
    "I_Fixed_it = True\n",
    "if I_Fixed_it == False:\n",
    "    raise Exception(\"There is an error in the way you are loading the new occupations and values\")\n",
    "if Water_testing == True:\n",
    "    Psi4Opts(True, False, True, test_Occs, Test_values) # type: ignore # In order to change from True to False you must restart the kernel\n",
    "    Water_Frac_Energy, Water_Frac_wfn = psi4.properties(\"svwn/cc-pvtz\", molecule=H2O, return_wfn=True) # type: ignore\n",
    "    #Psi4Opts(True, False, True, Three_Occs, Three_values) # In order to change from True to False you must restart the kernel\n",
    "    #Three_Water_Frac_Energy, Three_Water_Frac_wfn = psi4.properties(\"svwn/cc-pvtz\", molecule=H2O, return_wfn=True)\n",
    "    #Water_test_frequency, Water_wfn2 = psi4.frequency('scf', molecule = Molec, return_wfn = True)\n",
    "    #frequency, wfn2 = psi4.frequency('scf', molecule = F, return_wfn = True)\n",
    "    if Water_Frac_Energy == Water_frequency:\n",
    "        print(\"No Fractional Occupations were used. Energy is:\", Water_Frac_Energy) \n",
    "    else:\n",
    "        print(\"Fractional Occupation Occured occured. Energy is:\", Water_Frac_Energy)\n",
    "        print(f\"Regular (non fractionally occupied) energy is; {Water_frequency}\")"
   ]
  },
  {
   "cell_type": "markdown",
   "metadata": {},
   "source": [
    "#### Inverting Using Direct method"
   ]
  },
  {
   "cell_type": "code",
   "execution_count": null,
   "metadata": {},
   "outputs": [],
   "source": [
    "Invert_Water = n2v.Inverter.from_wfn(Water_Frac_wfn)\n",
    "# Build 1D grid\n",
    "x = np.linspace(-3,5,801)\n",
    "y = [0]\n",
    "z = [0]\n",
    "grid, shape = Invert_Water.eng.grid.generate_grid(x,y,z)\n",
    "\n",
    "# Run the calculation with requested grid\n",
    "vxc_inverted_Water = Invert_Water.invert('direct', grid=grid, correction=False)\n",
    "vxc_inverted_corr_Water = Invert_Water.invert('direct', grid=grid, correction=True)\n",
    "#Compare the performance of direct and reversed calculation of vxc. \n",
    "vxc0_Water = Invert_Water.eng.grid.vxc(Da=Water_Frac_wfn.Da().np, Db=Water_Frac_wfn.Db().np, grid=grid) # type: ignore\n",
    "#Invert_Water.invert(\"mRKS\", vxc_grid=grid, opt_max_iter=30, frac_old=0.8, init=\"scan\", sing=(1e-7, 1e-4, 1e-7, 1e-4))"
   ]
  },
  {
   "cell_type": "code",
   "execution_count": null,
   "metadata": {},
   "outputs": [
    {
     "data": {
      "image/png": "[encoded data removed]",
      "text/plain": [
       "<Figure size 1280x960 with 2 Axes>"
      ]
     },
     "metadata": {},
     "output_type": "display_data"
    }
   ],
   "source": [
    "fig, ax = plt.subplots(1, 2, dpi=200)\n",
    "#---------------> Data\n",
    "ax[0].plot(x, vxc0_Water, label=\"Forward DFT\")\n",
    "ax[0].plot(x, vxc_inverted_Water, label=\"Inverted DFT\")\n",
    "ax[1].plot(x, vxc0_Water, label=\"Forward DFT\")\n",
    "ax[1].plot(x, vxc_inverted_corr_Water, '--',label=\"Corrected Inverted DFT\")\n",
    "#---------------> Formatting\n",
    "#-------> Labels\n",
    "ax[0].set_xlabel('position')\n",
    "ax[0].set_ylabel('$v_{xc}$ (Ha)')\n",
    "ax[0].legend(loc='best', fontsize='x-small')\n",
    "ax[0].set_xlabel('position')\n",
    "ax[1].set_xlabel('position')\n",
    "ax[1].set_ylabel('$v_{xc}$ (Ha)')\n",
    "ax[1].legend(loc='best', fontsize='x-small')\n",
    "#-------> Titles\n",
    "ax[0].title.set_text('Water atom Vxc')\n",
    "ax[1].title.set_text('Water atom Vxc Corrected')\n",
    "#-------> Sizing\n",
    "ax[0].set_xlim(0.001,10)\n",
    "ax[0].set_ylim(-10, 1)\n",
    "#ax[1].set_xlim(0.001,10)\n",
    "#ax[1].set_ylim(-10, 1)\n",
    "#ax[0, 0].set_box_aspect(1)\n",
    "#ax[0, 1].set_box_aspect(1)\n",
    "#ax[1, 1].set_box_aspect(1)\n",
    "ax[0].set_xscale('log')\n",
    "ax[1].set_xscale('log')\n",
    "fig.tight_layout()\n",
    "#-------> Borders ## Have to run cell twice for this to work no idea why -- AO\n",
    "plt.rcParams[\"axes.edgecolor\"] = \"black\"\n",
    "plt.rcParams[\"axes.linewidth\"] = 1.00\n",
    "#fig.suptitle(\"Water Molecule Fractionally Occupied Direct Vxc\")"
   ]
  },
  {
   "cell_type": "markdown",
   "metadata": {},
   "source": [
    "#### Inverting using the Ou-Carter method"
   ]
  },
  {
   "cell_type": "code",
   "execution_count": null,
   "metadata": {},
   "outputs": [],
   "source": [
    "if Do_Ou_Carter == True:\n",
    "    # Build the plotting grid for vxc:\n",
    "    x_OC = np.linspace(-5,5,1501) + 1e-7\n",
    "    y_OC = [0]\n",
    "    z_OC = [0]\n",
    "    grid_OC, shape_OC = Invert_Water.eng.grid.generate_grid(x_OC,y_OC,z_OC)\n",
    "    v_OC = Invert_Water.invert(\"OC\", vxc_grid=grid_OC, frac_old=0.9, init=\"SCAN\") #opt_max_iter=29, frac_old=0.9, init=\"SCAN\")\n",
    "    ## Turn grid into psi4 blocks:\n",
    "    #grid_info = Invert_Water.eng.grid.grid_to_blocks(grid)  # turing grid into psi4 block infomation\n",
    "    #grid_info[-1].set_pointers(Water_wfn.Da())\n",
    "\n",
    "    ## Get exact and effective external potential\n",
    "    #vext = Invert_Water.eng.grid.esp(grid=grid_info)[0]\n",
    "    #vext_eff = Invert_Water._get_optimized_external_potential(grid_info=grid_info,)[-1]\n",
    "    #---------------> Plot\n",
    "    fig, ax = plt.subplots(1, 1, dpi=200)\n",
    "    #---------------> Data\n",
    "\n",
    "    ax.axhline(y=0, ls='--', label='y=0')\n",
    "    ax.plot(x_OC, v_OC[0].T, label=\"$v_{xc}$\")  # type: ignore\n",
    "    #---------------> Formatting\n",
    "    #-------> Labels\n",
    "    ax.set_xlabel('Position')\n",
    "    ax.set_ylabel('$v_{ext}$ (Ha)')\n",
    "    ax.legend()\n",
    "    #-------> Titles\n",
    "    ax.title.set_text('Water (Fractionally occupied) $V_{xc}$ Ou_Carter Method')\n",
    "    #-------> Sizing\n",
    "    #ax.set_xlim(-5,5)\n",
    "    #ax.set_ylim(-30, 30)\n",
    "    # Log limits\n",
    "    ax.set_xlim(0.001,10)\n",
    "    ax.set_xscale('log')\n",
    "    fig.tight_layout()\n",
    "    #-------> Borders ## Have to run cell twice for this to work no idea why -- AO\n",
    "    plt.rcParams[\"axes.edgecolor\"] = \"black\"\n",
    "    plt.rcParams[\"axes.linewidth\"] = 1.00"
   ]
  },
  {
   "cell_type": "markdown",
   "metadata": {},
   "source": [
    "Inverting with Other methods seems unnecessary and we can not invert a uhf with mRKS"
   ]
  },
  {
   "cell_type": "markdown",
   "metadata": {},
   "source": [
    "### Testing Code on $NH_3$"
   ]
  },
  {
   "cell_type": "code",
   "execution_count": null,
   "metadata": {},
   "outputs": [
    {
     "name": "stdout",
     "output_type": "stream",
     "text": [
      "Warning: thermodynamics relations excluded imaginary frequencies: ['10708.0738i' '10624.4800i' '10619.0403i' '9676.6927i' '9647.8339i'\n",
      " '9643.4786i']\n",
      "The total energy of the specified Ammonia molecule is: -52.6291938596389\n"
     ]
    }
   ],
   "source": [
    "Psi4Opts(False, False, False)  # type: ignore\n",
    "Molec, name = NH3, \"Ammonia\"\n",
    "Ammonia_Energy, Ammonia_wfn = psi4.energy(\"svwn/cc-pvtz\", molecule = Molec, return_wfn = True, write_orbitals=('test.dat', True)) # type: ignore\n",
    "Ammonia_frequency, Ammonia_wfn2 = psi4.frequency(\"svwn/cc-pvtz\", molecule = Molec, return_wfn = True)\n",
    "print(\"The total energy of the specified\", name, \"molecule is:\", Ammonia_Energy)\n",
    "# 9.44430\t9.44430\t6.19600"
   ]
  },
  {
   "cell_type": "code",
   "execution_count": null,
   "metadata": {},
   "outputs": [
    {
     "ename": "TypeError",
     "evalue": "thermo_prop() missing 1 required positional argument: 'rotational_constants'",
     "output_type": "error",
     "traceback": [
      "\u001b[0;31m---------------------------------------------------------------------------\u001b[0m",
      "\u001b[0;31mTypeError\u001b[0m                                 Traceback (most recent call last)",
      "Cell \u001b[0;32mIn[23], line 4\u001b[0m\n\u001b[1;32m      2\u001b[0m T \u001b[38;5;241m=\u001b[39m  \u001b[38;5;241m298.15\u001b[39m\n\u001b[1;32m      3\u001b[0m P \u001b[38;5;241m=\u001b[39m \u001b[38;5;241m101325\u001b[39m\n\u001b[0;32m----> 4\u001b[0m Ammonia_thermo_data \u001b[38;5;241m=\u001b[39m \u001b[43mthermo_prop\u001b[49m\u001b[43m(\u001b[49m\u001b[43mAmmonia_wfn2\u001b[49m\u001b[43m,\u001b[49m\u001b[43m \u001b[49m\u001b[43mAmmonia_frequency\u001b[49m\u001b[43m,\u001b[49m\u001b[43m \u001b[49m\u001b[43mT\u001b[49m\u001b[43m,\u001b[49m\u001b[43m \u001b[49m\u001b[43mP\u001b[49m\u001b[43m,\u001b[49m\u001b[43m \u001b[49m\u001b[38;5;241;43m17\u001b[39;49m\u001b[43m,\u001b[49m\u001b[43m \u001b[49m\u001b[43mrot_const\u001b[49m\u001b[43m)\u001b[49m\n\u001b[1;32m      5\u001b[0m Ammonia_mu \u001b[38;5;241m=\u001b[39m chemical_potential(Ammonia_thermo_data, T)\n\u001b[1;32m      6\u001b[0m \u001b[38;5;28mprint\u001b[39m(\u001b[38;5;124mf\u001b[39m\u001b[38;5;124m\"\u001b[39m\u001b[38;5;124mThe chemical potential of the system is: mu = \u001b[39m\u001b[38;5;132;01m{\u001b[39;00mAmmonia_mu\u001b[38;5;132;01m}\u001b[39;00m\u001b[38;5;124m\"\u001b[39m)\n",
      "\u001b[0;31mTypeError\u001b[0m: thermo_prop() missing 1 required positional argument: 'rotational_constants'"
     ]
    }
   ],
   "source": [
    "rot_const = np.array([9.44430, 9.44430, 6.19600]) # From https://cccbdb.nist.gov/exp2x.asp?casno=7664417&charge=0\n",
    "T =  298.15\n",
    "P = 101325\n",
    "Ammonia_thermo_data = thermo_prop(Ammonia_wfn2, Ammonia_frequency, T, P, 17, rot_const)\n",
    "Ammonia_mu = chemical_potential(Ammonia_thermo_data, T)\n",
    "print(f\"The chemical potential of the system is: mu = {Ammonia_mu}\")\n",
    "#print(Water_wfn.same_a_b_orbs())\n",
    "Ammonia_orbital_energies_alpha = Ammonia_wfn.epsilon_a().nph\n",
    "print_orb_energies = False\n",
    "Ammonia_Fermi_weights_alpha = calc_Fermi_weight(Ammonia_orbital_energies_alpha, Ammonia_mu, T)\n",
    "frac_val_list_alpha = fermi_to_frac_val(Ammonia_Fermi_weights_alpha) \n",
    "#print_big_info(Ammonia_orbital_energies_alpha, Ammonia_Fermi_weights_alpha, frac_val_list_alpha, False)  # type: ignore"
   ]
  },
  {
   "cell_type": "markdown",
   "metadata": {},
   "source": [
    "### Testing code on $CH_4$"
   ]
  },
  {
   "cell_type": "code",
   "execution_count": null,
   "metadata": {},
   "outputs": [],
   "source": [
    "Psi4Opts(False, False, False) # type: ignore\n",
    "raise Exception(\"Convergence issue Please reevaluate me\")\n",
    "Molec, name = CH4, \"Methane\"\n",
    "Methane_energy, Methane_wfn = psi4.energy(\"svwn/cc-pvtz\", molecule = Molec, return_wfn = True, write_orbitals=('test.dat', True)) # type: ignore\n",
    "Methane_frequency, Methane_wfn2 = psi4.frequency(\"svwn/cc-pvtz\", molecule = Molec, return_wfn = True)\n",
    "print(\"The total energy of the specified\", name, \"molecule is:\", Methane_frequency)\n",
    "rot_const = np.array([5.24120, 5.24120, 5.24120]) #From https://cccbdb.nist.gov/expgeom2.asp?casno=74828&charge=0\n",
    "T =  298.15\n",
    "P = 101325\n",
    "Methane_thermo_data = thermo_prop(Methane_wfn2, Methane_frequency, T, P, 16, rot_const)\n",
    "Methane_mu = chemical_potential(Methane_thermo_data, T)\n",
    "print(f\"The chemical potential of the system is: mu = {Methane_mu}\")\n",
    "#print(\"These are not correct you need to update the rotational constants. Also make sure they are correct for all molecules\")\n",
    "Methane_orbital_energies = Methane_wfn.epsilon_a().nph\n",
    "Methane_Fermi_weights = calc_Fermi_weight(Methane_orbital_energies, Methane_mu, T)\n",
    "frac_val_list = fermi_to_frac_val(Methane_Fermi_weights)\n",
    "#print_big_info(Methane_orbital_energies, Methane_Fermi_weights, frac_val_list, False) #type: ignore"
   ]
  },
  {
   "cell_type": "code",
   "execution_count": null,
   "metadata": {},
   "outputs": [],
   "source": []
  },
  {
   "cell_type": "markdown",
   "metadata": {},
   "source": [
    "### Test for Graphite/Graphene cannot get scf to converge "
   ]
  },
  {
   "cell_type": "code",
   "execution_count": null,
   "metadata": {},
   "outputs": [],
   "source": [
    "#Psi4Opts(False, False)\n",
    "#Molec, name = CCCC, \"Graphite/Graphene\"\n",
    "#Energy_Graph, wfn_Graph = psi4.energy('scf', molecule = Molec, return_wfn = True, write_orbitals=('test.dat', True))\n",
    "#frequency_Graph, wfn2_Graph = psi4.frequency('scf', molecule = Molec, return_wfn = True)\n",
    "#print(\"The total energy of the specified\", name, \"molecule is:\", frequency_Graph)\n"
   ]
  },
  {
   "cell_type": "code",
   "execution_count": 18,
   "metadata": {},
   "outputs": [
    {
     "name": "stdout",
     "output_type": "stream",
     "text": [
      "zsh:1: no matches found: psi*.clean\n"
     ]
    }
   ],
   "source": [
    "## Small inline clean-up to remove those pesky psi.clean files \n",
    "%rm psi*.clean"
   ]
  }
 ],
 "metadata": {
  "kernelspec": {
   "display_name": "n2venv",
   "language": "python",
   "name": "python3"
  },
  "language_info": {
   "codemirror_mode": {
    "name": "ipython",
    "version": 3
   },
   "file_extension": ".py",
   "mimetype": "text/x-python",
   "name": "python",
   "nbconvert_exporter": "python",
   "pygments_lexer": "ipython3",
   "version": "3.12.3"
  }
 },
 "nbformat": 4,
 "nbformat_minor": 2
}
